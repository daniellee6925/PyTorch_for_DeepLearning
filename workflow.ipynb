{
 "cells": [
  {
   "cell_type": "code",
   "execution_count": 15,
   "metadata": {},
   "outputs": [],
   "source": [
    "import pandas as pd\n",
    "import numpy as np\n",
    "import torch\n",
    "import matplotlib.pyplot as plt\n",
    "import torch.nn as nn\n",
    "import torch.nn.functional as F"
   ]
  },
  {
   "cell_type": "code",
   "execution_count": 2,
   "metadata": {},
   "outputs": [
    {
     "name": "stdout",
     "output_type": "stream",
     "text": [
      "Torch version: 2.5.1+cu121\n",
      "CUDA version: 12.1\n",
      "Is CUDA available: True\n"
     ]
    }
   ],
   "source": [
    "print(\"Torch version:\", torch.__version__)\n",
    "print(\"CUDA version:\", torch.version.cuda)\n",
    "print(\"Is CUDA available:\", torch.cuda.is_available())"
   ]
  },
  {
   "cell_type": "code",
   "execution_count": 7,
   "metadata": {},
   "outputs": [
    {
     "data": {
      "text/plain": [
       "tensor([[0.0000],\n",
       "        [0.0200],\n",
       "        [0.0400],\n",
       "        [0.0600],\n",
       "        [0.0800],\n",
       "        [0.1000],\n",
       "        [0.1200],\n",
       "        [0.1400],\n",
       "        [0.1600],\n",
       "        [0.1800]])"
      ]
     },
     "execution_count": 7,
     "metadata": {},
     "output_type": "execute_result"
    }
   ],
   "source": [
    "weight = 0.7\n",
    "bias = 0.3\n",
    "\n",
    "start = 0\n",
    "end = 1\n",
    "step = 0.02\n",
    "X = torch.arange(start, end, step).unsqueeze(dim=1)\n",
    "y = weight * X + bias\n",
    "X[:10]"
   ]
  },
  {
   "cell_type": "markdown",
   "metadata": {},
   "source": [
    "Train Test Split"
   ]
  },
  {
   "cell_type": "code",
   "execution_count": 9,
   "metadata": {},
   "outputs": [
    {
     "data": {
      "text/plain": [
       "(40, 40, 10, 10)"
      ]
     },
     "execution_count": 9,
     "metadata": {},
     "output_type": "execute_result"
    }
   ],
   "source": [
    "train_split  = int(0.8 * len(X))\n",
    "X_train, y_train = X[:train_split], y[:train_split]\n",
    "X_test, y_test = X[train_split:], y[train_split:]\n",
    "len(X_train), len(y_train), len(X_test), len(y_test)"
   ]
  },
  {
   "cell_type": "code",
   "execution_count": 13,
   "metadata": {},
   "outputs": [],
   "source": [
    "def plot_predictions(train_data = X_train, train_labels = y_train, test_data = X_test, test_labels = y_test, predictions = None):\n",
    "    #plots training data, test data, and predictions \n",
    "    plt.figure(figsize=(10, 7))\n",
    "    #plot training data in blue\n",
    "    plt.scatter(train_data, train_labels, c= 'b', s =4, label = \"Training Data\")\n",
    "    #plot test data in blue\n",
    "    plt.scatter(test_data, test_labels, c= 'g', s =4, label = \"Test Data\")\n",
    "    \n",
    "    #plot predicitions if it exist\n",
    "    if predictions is not None:\n",
    "        plt.scatter(test_data, predictions, c= 'r', s =4, label = \"Predictions\")\n",
    "    \n",
    "    #show legend\n",
    "    plt.legend(prop ={\"size\": 14})"
   ]
  },
  {
   "cell_type": "markdown",
   "metadata": {},
   "source": [
    "Build Model"
   ]
  },
  {
   "cell_type": "code",
   "execution_count": 17,
   "metadata": {},
   "outputs": [],
   "source": [
    "class LinearRegressionModel(nn.Module):\n",
    "    def __init__(self):\n",
    "        super().__init__()\n",
    "        self.weights = nn.Parameter(torch.randn(1, requires_grad= True, dtype=torch.float))\n",
    "        self.bias = nn.Parameter(torch.randn(1, requires_grad= True, dtype=torch.float))\n",
    "    #foward method\n",
    "    def forward(self, x:torch.Tensor) -> torch.Tensor:\n",
    "        return self.weights * x + self.bias "
   ]
  },
  {
   "cell_type": "markdown",
   "metadata": {},
   "source": [
    "torch.nn - contains all of the buildings for computational graph \\\n",
    "troch.nn.parameter - what parameters should our model try to learn \\\n",
    "troch.nn.Module - base class for all nueral network modules, you subclass to overwrite forward() \\\n",
    "torch.optim - optimizers\n",
    "\n"
   ]
  },
  {
   "cell_type": "code",
   "execution_count": 39,
   "metadata": {},
   "outputs": [
    {
     "data": {
      "text/plain": [
       "OrderedDict([('weights', tensor([0.3367])), ('bias', tensor([0.1288]))])"
      ]
     },
     "execution_count": 39,
     "metadata": {},
     "output_type": "execute_result"
    }
   ],
   "source": [
    "torch.manual_seed(42)\n",
    "model0 = LinearRegressionModel()\n",
    "model0.state_dict()"
   ]
  },
  {
   "cell_type": "code",
   "execution_count": 40,
   "metadata": {},
   "outputs": [
    {
     "data": {
      "text/plain": [
       "tensor([[0.3982],\n",
       "        [0.4049],\n",
       "        [0.4116],\n",
       "        [0.4184],\n",
       "        [0.4251],\n",
       "        [0.4318],\n",
       "        [0.4386],\n",
       "        [0.4453],\n",
       "        [0.4520],\n",
       "        [0.4588]])"
      ]
     },
     "execution_count": 40,
     "metadata": {},
     "output_type": "execute_result"
    }
   ],
   "source": [
    "#make predictions \n",
    "#inference mode -> don't track gradients \n",
    "with torch.inference_mode():\n",
    "    y_preds = model0(X_test)\n",
    "\"\"\"\n",
    "with torch.no_grad():\n",
    "\"\"\"\n",
    "y_preds"
   ]
  },
  {
   "cell_type": "code",
   "execution_count": 41,
   "metadata": {},
   "outputs": [],
   "source": [
    "#setup Loss func\n",
    "loss_fn = nn.L1Loss()\n",
    "\n",
    "optimizer = torch.optim.SGD(params = model0.parameters(), lr = 1e-2)\n"
   ]
  },
  {
   "cell_type": "code",
   "execution_count": null,
   "metadata": {},
   "outputs": [
    {
     "name": "stdout",
     "output_type": "stream",
     "text": [
      "Epoch: 0 | Loss: 0.31288138031959534 | Test Loss: 0.48106518387794495\n",
      "Epoch: 10 | Loss: 0.1976713240146637 | Test Loss: 0.3463551998138428\n",
      "Epoch: 20 | Loss: 0.08908725529909134 | Test Loss: 0.21729660034179688\n",
      "Epoch: 30 | Loss: 0.053148526698350906 | Test Loss: 0.14464017748832703\n",
      "Epoch: 40 | Loss: 0.04543796554207802 | Test Loss: 0.11360953003168106\n",
      "Epoch: 50 | Loss: 0.04167863354086876 | Test Loss: 0.09919948130846024\n",
      "Epoch: 60 | Loss: 0.03818932920694351 | Test Loss: 0.08886633068323135\n",
      "Epoch: 70 | Loss: 0.03476089984178543 | Test Loss: 0.0805937647819519\n",
      "Epoch: 80 | Loss: 0.03132382780313492 | Test Loss: 0.07232122868299484\n",
      "Epoch: 90 | Loss: 0.02788739837706089 | Test Loss: 0.06473556160926819\n",
      "Epoch: 100 | Loss: 0.024458957836031914 | Test Loss: 0.05646304413676262\n",
      "Epoch: 110 | Loss: 0.021020207554101944 | Test Loss: 0.04819049686193466\n",
      "Epoch: 120 | Loss: 0.01758546568453312 | Test Loss: 0.04060482233762741\n",
      "Epoch: 130 | Loss: 0.014155393466353416 | Test Loss: 0.03233227878808975\n",
      "Epoch: 140 | Loss: 0.010716589167714119 | Test Loss: 0.024059748277068138\n",
      "Epoch: 150 | Loss: 0.0072835334576666355 | Test Loss: 0.016474086791276932\n",
      "Epoch: 160 | Loss: 0.0038517764769494534 | Test Loss: 0.008201557211577892\n",
      "Epoch: 170 | Loss: 0.008932482451200485 | Test Loss: 0.005023092031478882\n",
      "Epoch: 180 | Loss: 0.008932482451200485 | Test Loss: 0.005023092031478882\n",
      "Epoch: 190 | Loss: 0.008932482451200485 | Test Loss: 0.005023092031478882\n"
     ]
    }
   ],
   "source": [
    "#building a training loop\n",
    "epochs = 200\n",
    "\n",
    "epoch_count = []\n",
    "loss_val = []\n",
    "test_loss_val = []\n",
    "\n",
    "for epoch in range(epochs):\n",
    "    #set model on training mode \n",
    "    model0.train() #train model\n",
    "    \n",
    "    #1. forward pass\n",
    "    y_pred = model0(X_train)\n",
    "    \n",
    "    #2. calc loss\n",
    "    loss = loss_fn(y_pred, y_train)\n",
    "    \n",
    "    #3 #clears previous gradients\n",
    "    optimizer.zero_grad()\n",
    "    \n",
    "    #backpropagation\n",
    "    loss.backward()\n",
    "    \n",
    "    #step the optimizer (update model parameters based on gradients) \n",
    "    optimizer.step()\n",
    "    \n",
    "    #testing\n",
    "    model0.eval() #turn off gradient tracking (dropout, batch normalization)\n",
    "    with torch.inference_mode():\n",
    "        #foward pass\n",
    "        test_pred = model0(X_test)\n",
    "        \n",
    "        #calc loss \n",
    "        test_loss = loss_fn(test_pred, y_test)\n",
    "    \n",
    "    if epoch % 10 == 0:\n",
    "        epoch_count.append(epoch)\n",
    "        loss_val.append(loss)\n",
    "        test_loss_val.append(test_loss)\n",
    "        print(f'Epoch: {epoch} | Loss: {loss} | Test Loss: {test_loss}')\n",
    "    "
   ]
  },
  {
   "cell_type": "code",
   "execution_count": 43,
   "metadata": {},
   "outputs": [
    {
     "data": {
      "text/plain": [
       "OrderedDict([('weights', tensor([0.6990])), ('bias', tensor([0.3093]))])"
      ]
     },
     "execution_count": 43,
     "metadata": {},
     "output_type": "execute_result"
    }
   ],
   "source": [
    "model0.state_dict()"
   ]
  },
  {
   "cell_type": "code",
   "execution_count": 44,
   "metadata": {},
   "outputs": [
    {
     "data": {
      "image/png": "[encoded data removed]",
      "text/plain": [
       "<Figure size 1000x700 with 1 Axes>"
      ]
     },
     "metadata": {},
     "output_type": "display_data"
    }
   ],
   "source": [
    "\n",
    "plot_predictions(predictions=test_pred)"
   ]
  },
  {
   "cell_type": "code",
   "execution_count": 45,
   "metadata": {},
   "outputs": [
    {
     "data": {
      "text/plain": [
       "<matplotlib.legend.Legend at 0x22df73c4790>"
      ]
     },
     "execution_count": 45,
     "metadata": {},
     "output_type": "execute_result"
    },
    {
     "data": {
      "image/png": "[encoded data removed]",
      "text/plain": [
       "<Figure size 640x480 with 1 Axes>"
      ]
     },
     "metadata": {},
     "output_type": "display_data"
    }
   ],
   "source": [
    "plt.plot(epoch_count, np.array(torch.tensor(loss_val).numpy()), label= \"Train Loss\")\n",
    "plt.plot(epoch_count, test_loss_val, label= \"Test Loss\")\n",
    "plt.title(\"Training and test loss curves\")\n",
    "plt.ylabel('Loss')\n",
    "plt.xlabel('Epochs')\n",
    "plt.legend()"
   ]
  },
  {
   "cell_type": "markdown",
   "metadata": {},
   "source": [
    "Saving Model"
   ]
  },
  {
   "cell_type": "code",
   "execution_count": 47,
   "metadata": {},
   "outputs": [
    {
     "name": "stdout",
     "output_type": "stream",
     "text": [
      "Saving model to: models\\01_pytorch_workflow_model_0.pth\n"
     ]
    }
   ],
   "source": [
    "#saving our model\n",
    "from pathlib import Path\n",
    "#create directory \n",
    "MODEL_PATH = Path(\"models\")\n",
    "MODEL_PATH.mkdir(parents=True, exist_ok=True)\n",
    "\n",
    "#create save path\n",
    "MODEL_NAME = \"01_pytorch_workflow_model_0.pth\"\n",
    "MODEL_SAVE_PATH = MODEL_PATH / MODEL_NAME\n",
    "\n",
    "#SAVE MODEL \n",
    "print(f\"Saving model to: {MODEL_SAVE_PATH}\")\n",
    "torch.save(obj = model0.state_dict(), f= MODEL_SAVE_PATH)"
   ]
  },
  {
   "cell_type": "markdown",
   "metadata": {},
   "source": [
    "Loading Model"
   ]
  },
  {
   "cell_type": "code",
   "execution_count": 48,
   "metadata": {},
   "outputs": [
    {
     "name": "stderr",
     "output_type": "stream",
     "text": [
      "C:\\Users\\danie\\AppData\\Local\\Temp\\ipykernel_12432\\3390426207.py:4: FutureWarning: You are using `torch.load` with `weights_only=False` (the current default value), which uses the default pickle module implicitly. It is possible to construct malicious pickle data which will execute arbitrary code during unpickling (See https://github.com/pytorch/pytorch/blob/main/SECURITY.md#untrusted-models for more details). In a future release, the default value for `weights_only` will be flipped to `True`. This limits the functions that could be executed during unpickling. Arbitrary objects will no longer be allowed to be loaded via this mode unless they are explicitly allowlisted by the user via `torch.serialization.add_safe_globals`. We recommend you start setting `weights_only=True` for any use case where you don't have full control of the loaded file. Please open an issue on GitHub for any issues related to this experimental feature.\n",
      "  loaded_model0.load_state_dict(torch.load(f=MODEL_SAVE_PATH))\n"
     ]
    },
    {
     "data": {
      "text/plain": [
       "<All keys matched successfully>"
      ]
     },
     "execution_count": 48,
     "metadata": {},
     "output_type": "execute_result"
    }
   ],
   "source": [
    "#to load, we have to instantiate a new instance of our model class\n",
    "loaded_model0 = LinearRegressionModel()\n",
    "#load the saved state_dict of model0 (this will update the new instance with updated parameters)\n",
    "loaded_model0.load_state_dict(torch.load(f=MODEL_SAVE_PATH))"
   ]
  },
  {
   "cell_type": "code",
   "execution_count": null,
   "metadata": {},
   "outputs": [],
   "source": []
  }
 ],
 "metadata": {
  "kernelspec": {
   "display_name": ".venv",
   "language": "python",
   "name": "python3"
  },
  "language_info": {
   "codemirror_mode": {
    "name": "ipython",
    "version": 3
   },
   "file_extension": ".py",
   "mimetype": "text/x-python",
   "name": "python",
   "nbconvert_exporter": "python",
   "pygments_lexer": "ipython3",
   "version": "3.11.9"
  }
 },
 "nbformat": 4,
 "nbformat_minor": 2
}
